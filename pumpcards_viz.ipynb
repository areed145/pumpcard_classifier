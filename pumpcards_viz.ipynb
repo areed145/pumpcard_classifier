{
 "cells": [
  {
   "cell_type": "code",
   "execution_count": null,
   "metadata": {},
   "outputs": [],
   "source": [
    "import numpy as np\n",
    "import glob\n",
    "import matplotlib.pyplot as plt\n",
    "from plotly.subplots import make_subplots\n",
    "import plotly.graph_objects as go\n",
    "import random\n",
    "\n",
    "from keras.layers import Conv2D, MaxPooling2D, Dense, Flatten, Dropout\n",
    "from keras.regularizers import l2\n",
    "from keras.models import Sequential\n",
    "from keras.utils import to_categorical\n",
    "from keras.models import model_from_json\n",
    "import keras.backend as K\n",
    "\n",
    "from sklearn.metrics import confusion_matrix\n",
    "from sklearn.utils import resample\n",
    "\n",
    "import shap"
   ]
  },
  {
   "cell_type": "code",
   "execution_count": null,
   "metadata": {},
   "outputs": [],
   "source": [
    "json_file = open('model.json', 'r')\n",
    "loaded_model_json = json_file.read()\n",
    "json_file.close()\n",
    "model = model_from_json(loaded_model_json)\n",
    "# load weights into new model\n",
    "model.load_weights('model.h5')\n",
    "print('Loaded model from disk')"
   ]
  },
  {
   "cell_type": "code",
   "execution_count": null,
   "metadata": {},
   "outputs": [],
   "source": [
    "input_files = glob.glob('arrays/*.npz')\n",
    "print(len(input_files))\n",
    "\n",
    "Xs = []\n",
    "ys = []\n",
    "\n",
    "for file in input_files:\n",
    "    loaded = np.load(file)\n",
    "    Xs.append(loaded['X'])\n",
    "    ys.append(loaded['y'])\n",
    "    \n",
    "X_ = np.array(Xs)\n",
    "y_ = np.array(ys)"
   ]
  },
  {
   "cell_type": "code",
   "execution_count": null,
   "metadata": {},
   "outputs": [],
   "source": [
    "samples = 3\n",
    "Xs_r = []\n",
    "ys_r = []\n",
    "for class_name in np.unique(y_):\n",
    "    Xc_ = X_[y_==class_name]\n",
    "    yc_ = y_[y_==class_name]\n",
    "    for sample in range(samples):\n",
    "        idx = random.randint(0,len(Xc_)-1)\n",
    "        Xs_r.append(Xc_[idx])\n",
    "        ys_r.append(yc_[idx])\n",
    "        \n",
    "X = np.array(Xs_r)\n",
    "y = np.array(ys_r)\n",
    "y = to_categorical(y)"
   ]
  },
  {
   "cell_type": "code",
   "execution_count": null,
   "metadata": {},
   "outputs": [],
   "source": [
    "y_pred = model.predict(X)\n",
    "cm = confusion_matrix(np.argmax(y, axis=1), np.argmax(y_pred, axis=1))\n",
    "print(cm)\n",
    "plt.imshow(cm)"
   ]
  },
  {
   "cell_type": "code",
   "execution_count": null,
   "metadata": {},
   "outputs": [],
   "source": [
    "state_map = {\n",
    "    -99:'nan',\n",
    "    0:'normal',\n",
    "    1:'fluid_pound',\n",
    "    2:'standing_valve',\n",
    "    3:'sticking',\n",
    "    4:'barrel_leak',\n",
    "    5:'gas',\n",
    "    6:'bad_data',\n",
    "}\n",
    "\n",
    "def map2layer(x, layer):\n",
    "    feed_dict = dict(zip([model.layers[0].input], [x.copy()]))\n",
    "    return K.get_session().run(model.layers[layer].input, feed_dict)"
   ]
  },
  {
   "cell_type": "code",
   "execution_count": null,
   "metadata": {},
   "outputs": [],
   "source": [
    "layer = 0\n",
    "X_shap = X[:,:,:,:]\n",
    "ranked_outputs = 2"
   ]
  },
  {
   "cell_type": "code",
   "execution_count": null,
   "metadata": {},
   "outputs": [],
   "source": [
    "explainer = shap.GradientExplainer(\n",
    "    (model.layers[layer].input, model.layers[-1].output), \n",
    "    map2layer(X_shap.copy(), layer)\n",
    ")"
   ]
  },
  {
   "cell_type": "code",
   "execution_count": null,
   "metadata": {},
   "outputs": [],
   "source": [
    "X_explain = X[::3,:,:,:]\n",
    "y_explain = np.argmax(y[:], axis=1)\n",
    "shap_values, indexes = explainer.shap_values(\n",
    "    map2layer(X_explain, layer), \n",
    "    ranked_outputs=ranked_outputs\n",
    ")\n",
    "index_names = np.vectorize(lambda x: state_map[x])(indexes)"
   ]
  },
  {
   "cell_type": "code",
   "execution_count": null,
   "metadata": {
    "scrolled": false
   },
   "outputs": [],
   "source": [
    "for x in range(len(X_explain)):\n",
    "    fig = make_subplots(\n",
    "        rows=3, \n",
    "        cols=ranked_outputs+1, \n",
    "        horizontal_spacing = 0.01,\n",
    "        vertical_spacing = 0.01,\n",
    "        shared_xaxes=True,\n",
    "        shared_yaxes=True,\n",
    "#         subplot_titles=(\"Plot 1\", \"Plot 2\", \"Plot 3\", \"Plot 4\")\n",
    "    )\n",
    "    for ch in range(3):\n",
    "        fig.add_trace(\n",
    "            go.Heatmap(\n",
    "                z=np.rot90(np.rot90(np.rot90(X_explain[x][:,:,ch]))),\n",
    "                colorscale='Viridis',\n",
    "                showscale=False,\n",
    "                xaxis='x2',\n",
    "                yaxis='y2',\n",
    "            ),\n",
    "            row=ch+1, col=1\n",
    "        )\n",
    "        for ro in range(ranked_outputs):\n",
    "            endpt = np.quantile(np.abs(shap_values[ro][x][:,:,ch]), 0.99)\n",
    "            fig.add_trace(\n",
    "                go.Heatmap(\n",
    "                    z=np.rot90(np.rot90(np.rot90(shap_values[ro][x][:,:,ch]))),\n",
    "                    zmin=-endpt,\n",
    "                    zmax=endpt,\n",
    "                    colorscale='Picnic',\n",
    "                    showscale=False,\n",
    "                    xaxis='x2',\n",
    "                    yaxis='y2',\n",
    "                ),\n",
    "                row=ch+1, col=ro+2\n",
    "            )\n",
    "            \n",
    "            \n",
    "    fig.update_layout(\n",
    "#         title=\"Plot Title\",\n",
    "#         xaxis_title=\"x Axis Title\",\n",
    "#         yaxis_title=\"y Axis Title\",\n",
    "        margin=dict(l=10, r=10, t=10, b=10),\n",
    "        xaxis2=dict(\n",
    "            autorange=True,\n",
    "            showgrid=False,\n",
    "            ticks='',\n",
    "            showticklabels=False\n",
    "        ),\n",
    "        yaxis2=dict(\n",
    "            autorange=True,\n",
    "            showgrid=False,\n",
    "            ticks='',\n",
    "            showticklabels=False\n",
    "        ),\n",
    "#         font=dict(\n",
    "#             family=\"Courier New, monospace\",\n",
    "#             size=18,\n",
    "#             color=\"#7f7f7f\"\n",
    "#         )\n",
    "    )\n",
    "    \n",
    "    fig.show()"
   ]
  },
  {
   "cell_type": "code",
   "execution_count": null,
   "metadata": {},
   "outputs": [],
   "source": []
  }
 ],
 "metadata": {
  "kernelspec": {
   "display_name": "Python 3",
   "language": "python",
   "name": "python3"
  },
  "language_info": {
   "codemirror_mode": {
    "name": "ipython",
    "version": 3
   },
   "file_extension": ".py",
   "mimetype": "text/x-python",
   "name": "python",
   "nbconvert_exporter": "python",
   "pygments_lexer": "ipython3",
   "version": "3.6.10"
  }
 },
 "nbformat": 4,
 "nbformat_minor": 4
}
