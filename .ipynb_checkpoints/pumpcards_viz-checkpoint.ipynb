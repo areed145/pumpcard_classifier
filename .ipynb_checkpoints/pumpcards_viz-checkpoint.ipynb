{
 "cells": [
  {
   "cell_type": "code",
   "execution_count": 15,
   "metadata": {},
   "outputs": [],
   "source": [
    "import numpy as np\n",
    "import glob\n",
    "import matplotlib.pyplot as plt\n",
    "from plotly.subplots import make_subplots\n",
    "import plotly.graph_objects as go\n",
    "import random\n",
    "import requests\n",
    "import psutil\n",
    "\n",
    "from keras.layers import Conv2D, MaxPooling2D, Dense, Flatten, Dropout\n",
    "from keras.regularizers import l2\n",
    "from keras.models import Sequential\n",
    "from keras.utils import to_categorical\n",
    "from keras.models import model_from_json\n",
    "import keras.backend as K\n",
    "\n",
    "from sklearn.metrics import confusion_matrix\n",
    "from sklearn.utils import resample\n",
    "\n",
    "import pandas as pd\n",
    "\n",
    "import shap"
   ]
  },
  {
   "cell_type": "code",
   "execution_count": 2,
   "metadata": {},
   "outputs": [
    {
     "name": "stdout",
     "output_type": "stream",
     "text": [
      "WARNING:tensorflow:From /Users/areed145/opt/anaconda3/envs/keras/lib/python3.6/site-packages/tensorflow/python/ops/resource_variable_ops.py:435: colocate_with (from tensorflow.python.framework.ops) is deprecated and will be removed in a future version.\n",
      "Instructions for updating:\n",
      "Colocations handled automatically by placer.\n",
      "Loaded model from disk\n"
     ]
    }
   ],
   "source": [
    "json_file = open('model.json', 'r')\n",
    "loaded_model_json = json_file.read()\n",
    "json_file.close()\n",
    "model = model_from_json(loaded_model_json)\n",
    "# load weights into new model\n",
    "model.load_weights('model.h5')\n",
    "print('Loaded model from disk')"
   ]
  },
  {
   "cell_type": "code",
   "execution_count": 3,
   "metadata": {},
   "outputs": [
    {
     "name": "stdout",
     "output_type": "stream",
     "text": [
      "2600\n"
     ]
    }
   ],
   "source": [
    "input_files = glob.glob('arrays/*.npz')\n",
    "print(len(input_files))\n",
    "\n",
    "Xs = []\n",
    "ys = []\n",
    "fs = []\n",
    "\n",
    "for file in input_files:\n",
    "    loaded = np.load(file)\n",
    "    Xs.append(loaded['X'])\n",
    "    ys.append(loaded['y'])\n",
    "    fs.append(file)\n",
    "    \n",
    "X_ = np.array(Xs)\n",
    "y_ = np.array(ys)\n",
    "f_ = np.array(fs)"
   ]
  },
  {
   "cell_type": "code",
   "execution_count": 4,
   "metadata": {},
   "outputs": [],
   "source": [
    "samples = 5\n",
    "Xs_r = []\n",
    "ys_r = []\n",
    "fs_r = []\n",
    "for class_name in np.unique(y_):\n",
    "    Xc_ = X_[y_==class_name]\n",
    "    yc_ = y_[y_==class_name]\n",
    "    fc_ = f_[y_==class_name]\n",
    "    for sample in range(samples):\n",
    "        idx = random.randint(0,len(Xc_)-1)\n",
    "        Xs_r.append(Xc_[idx])\n",
    "        ys_r.append(yc_[idx])\n",
    "        fs_r.append(fc_[idx])\n",
    "        \n",
    "X = np.array(Xs_r)\n",
    "y = np.array(ys_r)\n",
    "f = np.array(fs_r)\n",
    "y = to_categorical(y)"
   ]
  },
  {
   "cell_type": "code",
   "execution_count": 5,
   "metadata": {},
   "outputs": [],
   "source": [
    "del(X_)\n",
    "del(y_)\n",
    "del(f_)\n",
    "del(Xs)\n",
    "del(ys)\n",
    "del(fs)"
   ]
  },
  {
   "cell_type": "code",
   "execution_count": 6,
   "metadata": {},
   "outputs": [
    {
     "name": "stdout",
     "output_type": "stream",
     "text": [
      "[[4 0 0 0 1 0 0]\n",
      " [0 5 0 0 0 0 0]\n",
      " [0 0 5 0 0 0 0]\n",
      " [0 0 0 5 0 0 0]\n",
      " [0 0 0 0 5 0 0]\n",
      " [0 0 0 0 0 5 0]\n",
      " [0 0 0 0 0 0 5]]\n"
     ]
    },
    {
     "data": {
      "text/plain": [
       "<matplotlib.image.AxesImage at 0x1a33940f60>"
      ]
     },
     "execution_count": 6,
     "metadata": {},
     "output_type": "execute_result"
    },
    {
     "data": {
      "image/png": "[encoded data removed]",
      "text/plain": [
       "<Figure size 432x288 with 1 Axes>"
      ]
     },
     "metadata": {
      "needs_background": "light"
     },
     "output_type": "display_data"
    }
   ],
   "source": [
    "y_pred = model.predict(X)\n",
    "cm = confusion_matrix(np.argmax(y, axis=1), np.argmax(y_pred, axis=1))\n",
    "print(cm)\n",
    "plt.imshow(cm)"
   ]
  },
  {
   "cell_type": "code",
   "execution_count": 7,
   "metadata": {},
   "outputs": [],
   "source": [
    "state_map = {\n",
    "    -99:'nan',\n",
    "    0:'normal',\n",
    "    1:'fluid_pound',\n",
    "    2:'standing_valve',\n",
    "    3:'sticking',\n",
    "    4:'barrel_leak',\n",
    "    5:'gas',\n",
    "    6:'bad_data',\n",
    "}\n",
    "\n",
    "def map2layer(x, layer):\n",
    "    feed_dict = dict(zip([model.layers[0].input], [x.copy()]))\n",
    "    return K.get_session().run(model.layers[layer].input, feed_dict)"
   ]
  },
  {
   "cell_type": "code",
   "execution_count": 8,
   "metadata": {},
   "outputs": [],
   "source": [
    "layer = 0\n",
    "X_shap = X[:,:,:,:]\n",
    "ranked_outputs = 2"
   ]
  },
  {
   "cell_type": "code",
   "execution_count": 9,
   "metadata": {},
   "outputs": [],
   "source": [
    "explainer = shap.GradientExplainer(\n",
    "    (model.layers[layer].input, model.layers[-1].output), \n",
    "    map2layer(X_shap.copy(), layer)\n",
    ")"
   ]
  },
  {
   "cell_type": "code",
   "execution_count": 10,
   "metadata": {},
   "outputs": [],
   "source": [
    "X_explain = X[::samples,:,:,:]\n",
    "y_explain = np.argmax(y[::samples,:], axis=1)\n",
    "f_explain = f[::samples]\n",
    "shap_values, indexes = explainer.shap_values(\n",
    "    map2layer(X_explain, layer), \n",
    "    ranked_outputs=ranked_outputs\n",
    ")\n",
    "index_names = np.vectorize(lambda x: state_map[x])(indexes)"
   ]
  },
  {
   "cell_type": "code",
   "execution_count": null,
   "metadata": {
    "scrolled": false
   },
   "outputs": [],
   "source": [
    "for x in range(len(X_explain)):\n",
    "    label = state_map[y_explain[x]]\n",
    "    card = 'cards/'+f_explain[x][7:-4]+'.csv'\n",
    "    df_card = pd.read_csv(card)\n",
    "    channels = ['position','acceleration','load']\n",
    "    titles = ['card: '+label]\n",
    "    for ch in range(3):\n",
    "        titles.append('truth: '+label+': '+channels[ch])\n",
    "        for ro in range(ranked_outputs):\n",
    "            titles.append(str(ro)+': '+index_names[x][ro]+': '+channels[ch])\n",
    "    fig = make_subplots(\n",
    "        rows=3,\n",
    "        cols=ranked_outputs+2,\n",
    "        specs=[\n",
    "            [{'rowspan': 3}, {}, {}, {}],\n",
    "            [None, {}, {}, {}],\n",
    "            [None, {}, {}, {}]\n",
    "        ],\n",
    "        horizontal_spacing = 0.02,\n",
    "        vertical_spacing = 0.05,\n",
    "        shared_xaxes=True,\n",
    "        shared_yaxes=True,\n",
    "        subplot_titles=titles,\n",
    "    )\n",
    "    fig.add_trace(\n",
    "            go.Scatter(\n",
    "                x=df_card['pos(in)'].values,\n",
    "                y=df_card['Load_1(lbs)'].values,\n",
    "                mode='markers',\n",
    "                marker=dict(\n",
    "                    color=df_card['acc(in/s/s)'].values,\n",
    "                    colorscale='Viridis',\n",
    "                    showscale=False,\n",
    "                ),\n",
    "            ),\n",
    "            row=1, col=1\n",
    "        )\n",
    "    for ch in range(3):\n",
    "        fig.add_trace(\n",
    "            go.Heatmap(\n",
    "                z=np.rot90(np.rot90(np.rot90(X_explain[x][:,:,ch]))),\n",
    "                colorscale='Viridis',\n",
    "                showscale=False,\n",
    "                xaxis='x2',\n",
    "                yaxis='y2',\n",
    "            ),\n",
    "            row=ch+1, col=2\n",
    "        )\n",
    "        for ro in range(ranked_outputs):\n",
    "            endpt = np.quantile(np.abs(shap_values[ro][x][:,:,ch]), 0.99)\n",
    "            fig.add_trace(\n",
    "                go.Heatmap(\n",
    "                    z=np.rot90(np.rot90(np.rot90(shap_values[ro][x][:,:,ch]))),\n",
    "                    zmin=-endpt,\n",
    "                    zmax=endpt,\n",
    "                    colorscale='Picnic',\n",
    "                    showscale=False,\n",
    "                    xaxis='x2',\n",
    "                    yaxis='y2',\n",
    "                ),\n",
    "                row=ch+1, col=ro+3\n",
    "            )\n",
    "            \n",
    "            \n",
    "    fig.update_layout(\n",
    "        height=500,\n",
    "        width=1200,\n",
    "        title=label,\n",
    "#         xaxis_title=\"x Axis Title\",\n",
    "#         yaxis_title=\"y Axis Title\",\n",
    "        margin=dict(l=50, r=10, t=40, b=10),\n",
    "        xaxis2=dict(\n",
    "            autorange=True,\n",
    "            showgrid=False,\n",
    "            ticks='',\n",
    "            showticklabels=False\n",
    "        ),\n",
    "        yaxis2=dict(\n",
    "            autorange=True,\n",
    "            showgrid=False,\n",
    "            ticks='',\n",
    "            showticklabels=False\n",
    "        ),\n",
    "#         font=dict(\n",
    "#             family=\"Courier New, monospace\",\n",
    "#             size=18,\n",
    "#             color=\"#7f7f7f\"\n",
    "#         )\n",
    "    )\n",
    "    \n",
    "#     fig.show()\n",
    "    fig.write_image('images/'+label+'.png', dpi=300)\n",
    "    fig.write_html('plots/'+label+'.html')"
   ]
  }
 ],
 "metadata": {
  "kernelspec": {
   "display_name": "Python 3",
   "language": "python",
   "name": "python3"
  },
  "language_info": {
   "codemirror_mode": {
    "name": "ipython",
    "version": 3
   },
   "file_extension": ".py",
   "mimetype": "text/x-python",
   "name": "python",
   "nbconvert_exporter": "python",
   "pygments_lexer": "ipython3",
   "version": "3.6.10"
  }
 },
 "nbformat": 4,
 "nbformat_minor": 4
}
